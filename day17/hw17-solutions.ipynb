{
 "cells": [
  {
   "cell_type": "markdown",
   "metadata": {},
   "source": [
    "# FOCS Homework #17 Solutions"
   ]
  },
  {
   "cell_type": "markdown",
   "metadata": {},
   "source": [
    "## 1. Spanning Trees\n",
    "Modify bfs to construct a spanning tree.\n",
    "\n",
    "1. First strategy: add a `parent` attribute to each node."
   ]
  },
  {
   "cell_type": "code",
   "execution_count": 1,
   "metadata": {
    "collapsed": false
   },
   "outputs": [
    {
     "name": "stdout",
     "output_type": "stream",
     "text": [
      "a\n",
      "b\n",
      "c\n",
      "d\n",
      "e\n",
      "a\n",
      "  b\n",
      "    d\n",
      "    e\n",
      "  c\n"
     ]
    }
   ],
   "source": [
    "import itertools\n",
    "from queue import Queue\n",
    "from bft_w_obj_nodes import g  # the test graph\n",
    "\n",
    "def create_spanning_tree(graph, start):  # <- renamed from `bfs`\n",
    "    \"\"\"Use breadth-first search to create a spanning tree.\n",
    "    Adds a `parent` attribute to each reachable node in the graph.\"\"\"\n",
    "    \n",
    "    remaining_nodes = Queue()\n",
    "    visited = set()\n",
    "\n",
    "    def visit(node):\n",
    "        # print(node)  <- removed\n",
    "        \n",
    "        visited.add(node)\n",
    "        for tail in graph.successors(node):\n",
    "            if tail not in visited:\n",
    "                tail.parent = node  # <- added\n",
    "                remaining_nodes.put(tail)\n",
    "\n",
    "    start.parent = None  # <- added\n",
    "    remaining_nodes.put(start)\n",
    "    while not remaining_nodes.empty():\n",
    "        n = remaining_nodes.get()\n",
    "        visit(n)\n",
    "\n",
    "def print_spanning_tree(graph):\n",
    "    \"\"\"Given a spanning tree represented as nodes in a graph connected by a `parent` attribute,\n",
    "    print it as an indented tree.\n",
    "    \n",
    "    This implementation requires that there's a single spanning tree. If the graph is partitioned\n",
    "    into a spanning forest of more than one tree, it uses an unspecified algorithm to select one\n",
    "    such tree in an unspecified.\"\"\"\n",
    "    \n",
    "    # Accumulate a dict node.label -> children. This is keyed by the node label rather than the node,\n",
    "    # because instances of Node aren't valid hash key.\n",
    "    #\n",
    "    # An alternative implementation would be to add a `children` attribute to the nodes.\n",
    "    # This is simpler, but it seems rude for a `print` function to modify its argument.\n",
    "    def parent_label(node):\n",
    "        return node.parent.label if node.parent else ''\n",
    "    node_children = dict((label, list(children))\n",
    "                         for label, children in itertools.groupby(sorted(graph.nodes, key=parent_label), key=parent_label)\n",
    "                         if label)\n",
    "\n",
    "    def print_subtree(node, indent=0):\n",
    "        print('  ' * indent + node.label)\n",
    "        for child in node_children.get(node.label, []):\n",
    "            print_subtree(child, indent + 1)\n",
    "        \n",
    "    # Find the (possibly improper) ancestor. If the `parent` structure has more than one graph,\n",
    "    # find the ancestor of the first node in the graph's list of nodes.\n",
    "    #\n",
    "    # (This also sneaks in the software engineering idea of the difference between API documentation\n",
    "    # and internal comments. The docstring doesn't commit the method to this algorithm, in order\n",
    "    # to leave it to the implementor to change strategies. The comment goes ahead and documents\n",
    "    # the actual design, even though it's not part of this function's contract.)\n",
    "    root = next(n for n in graph.nodes if not n.parent)\n",
    "    print_subtree(root)\n",
    "    \n",
    "\n",
    "create_spanning_tree(g, g.nodes[0])\n",
    "print_spanning_tree(g)"
   ]
  },
  {
   "cell_type": "markdown",
   "metadata": {},
   "source": [
    "2\\. Second strategy: construct a new graph."
   ]
  },
  {
   "cell_type": "code",
   "execution_count": 2,
   "metadata": {
    "collapsed": false
   },
   "outputs": [
    {
     "name": "stdout",
     "output_type": "stream",
     "text": [
      "a\n",
      "b\n",
      "c\n",
      "d\n",
      "e\n",
      "b -> d\n",
      "b -> e\n",
      "a -> b\n",
      "a -> c\n"
     ]
    }
   ],
   "source": [
    "from queue import Queue\n",
    "from graph import Graph, g  # the test graph\n",
    "\n",
    "def create_spanning_tree(graph, start):  # <- renamed from `bfs`\n",
    "    \"\"\"Use breadth-first search to create a spanning tree.\n",
    "    Returns a new graph.\"\"\"\n",
    "    \n",
    "    remaining_nodes = Queue()\n",
    "    visited = set()\n",
    "    \n",
    "    new_nodes, new_edges = set(), []  # <- added\n",
    "\n",
    "    def visit(node):\n",
    "        # print(node)  <- removed\n",
    "        new_nodes.add(node)  # <- added\n",
    "        \n",
    "        visited.add(node)\n",
    "        for tail in graph.successors(node):\n",
    "            if tail not in visited:\n",
    "                new_edges.append((node, tail))  # <- added\n",
    "                remaining_nodes.put(tail)\n",
    "\n",
    "    remaining_nodes.put(start)\n",
    "    while not remaining_nodes.empty():\n",
    "        n = remaining_nodes.get()\n",
    "        visit(n)\n",
    "\n",
    "    return Graph(visited, new_edges)\n",
    "\n",
    "\n",
    "def print_graph(graph):\n",
    "    for head, tails in graph.adjacency_list.items():\n",
    "        for tail in tails:\n",
    "            print('{} -> {}'.format(head, tail))\n",
    "\n",
    "print_graph(create_spanning_tree(g, g.nodes[0]))"
   ]
  },
  {
   "cell_type": "markdown",
   "metadata": {},
   "source": [
    "## 2. Single-Source Distance (without weights)\n",
    "Modify bfs so that it records the distance (number of edges) from the start node to each node that a path can reach.\n",
    "\n",
    "1. First strategy: add a `distance` attribute to each node."
   ]
  },
  {
   "cell_type": "code",
   "execution_count": 3,
   "metadata": {
    "collapsed": false
   },
   "outputs": [
    {
     "name": "stdout",
     "output_type": "stream",
     "text": [
      "a 0\n",
      "b 1\n",
      "c 1\n",
      "d 2\n",
      "e 2\n"
     ]
    }
   ],
   "source": [
    "from queue import Queue\n",
    "from bft_w_obj_nodes import g  # the test graph\n",
    "\n",
    "def assign_distances(graph, start):  # <- renamed from `bfs`\n",
    "    \"\"\"Record the distance from the start node to each reachable node.\n",
    "    Adds a `distance` attribute to each reachable node in the graph.\"\"\"\n",
    "    \n",
    "    remaining_nodes = Queue()\n",
    "    visited = set()\n",
    "\n",
    "    def visit(node, distance):\n",
    "        # print(node)  <- removed\n",
    "        node.distance = distance  # <- added\n",
    "        \n",
    "        visited.add(node)\n",
    "        for tail in graph.successors(node):\n",
    "            if tail not in visited:\n",
    "                remaining_nodes.put((tail, distance + 1))\n",
    "\n",
    "    start.parent = None  # <- added\n",
    "    remaining_nodes.put((start, 0))  # <- made this a tuple of (node, distance)\n",
    "    while not remaining_nodes.empty():\n",
    "        n, distance = remaining_nodes.get()\n",
    "        visit(n, distance)\n",
    "\n",
    "assign_distances(g, g.nodes[0])\n",
    "for n in g.nodes:\n",
    "    print(n, n.distance)"
   ]
  },
  {
   "cell_type": "markdown",
   "metadata": {},
   "source": [
    "2\\. Second strategy: Return a structure that maps nodes to distances"
   ]
  },
  {
   "cell_type": "code",
   "execution_count": 4,
   "metadata": {
    "collapsed": false
   },
   "outputs": [
    {
     "name": "stdout",
     "output_type": "stream",
     "text": [
      "{'a': 0, 'e': 2, 'c': 1, 'd': 2, 'b': 1}\n"
     ]
    }
   ],
   "source": [
    "from queue import Queue\n",
    "from bft_w_obj_nodes import g  # the test graph\n",
    "\n",
    "def create_distance_map(graph, start):\n",
    "    \"\"\"Record the distance from the start node to each reachable node.\n",
    "    Returns a map from node label -> distance.\"\"\"\n",
    "    \n",
    "    remaining_nodes = Queue()\n",
    "    visited = set()\n",
    "    distances = {}  # <- added\n",
    "\n",
    "    def visit(node, distance):\n",
    "        # print(node)  <- removed\n",
    "        distances[node.label] = distance  # <- added\n",
    "        \n",
    "        visited.add(node)\n",
    "        for tail in graph.successors(node):\n",
    "            if tail not in visited:\n",
    "                remaining_nodes.put((tail, distance + 1))\n",
    "\n",
    "    start.parent = None  # <- added\n",
    "    remaining_nodes.put((start, 0))  # <- made this a tuple of (node, distance)\n",
    "    while not remaining_nodes.empty():\n",
    "        n, distance = remaining_nodes.get()\n",
    "        visit(n, distance)\n",
    "    \n",
    "    return distances\n",
    "\n",
    "print(create_distance_map(g, g.nodes[0]))"
   ]
  },
  {
   "cell_type": "markdown",
   "metadata": {},
   "source": [
    "## 3. Single-Source Distance With Weights\n",
    "\n",
    "![](./images/dijkstra.png)"
   ]
  }
 ],
 "metadata": {
  "anaconda-cloud": {},
  "kernelspec": {
   "display_name": "Python [Root]",
   "language": "python",
   "name": "Python [Root]"
  },
  "language_info": {
   "codemirror_mode": {
    "name": "ipython",
    "version": 3
   },
   "file_extension": ".py",
   "mimetype": "text/x-python",
   "name": "python",
   "nbconvert_exporter": "python",
   "pygments_lexer": "ipython3",
   "version": "3.5.2"
  }
 },
 "nbformat": 4,
 "nbformat_minor": 0
}
