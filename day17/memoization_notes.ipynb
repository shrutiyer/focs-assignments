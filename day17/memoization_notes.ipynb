{
 "cells": [
  {
   "cell_type": "markdown",
   "metadata": {},
   "source": [
    "# Dynamic Programming and the Fibonacci function\n",
    "\n",
    "A straight-forward implementation of Fibonacci.\n",
    "This implementation is derived directly from the mathematical definition.\n",
    "\n",
    "This implementation uses a divide and conquer strategy – the problem is divided into smaller problems – but it does not use dynamic programming or memoization."
   ]
  },
  {
   "cell_type": "code",
   "execution_count": 30,
   "metadata": {
    "collapsed": false
   },
   "outputs": [],
   "source": [
    "def fib(n):\n",
    "    \"\"\"Return the nth Fibonacci number.\n",
    "    This uses the modern definition of fib, where fib(0) == 0.\"\"\"\n",
    "    \n",
    "    if n <= 1:\n",
    "        return n\n",
    "    else:\n",
    "        return fib(n - 2) + fib(n - 1)\n",
    "\n",
    "assert fib(0) == 0\n",
    "assert fib(1) == 1\n",
    "assert fib(2) == 1\n",
    "assert fib(3) == 2\n",
    "assert fib(10) == 55"
   ]
  },
  {
   "cell_type": "markdown",
   "metadata": {},
   "source": [
    "Instrumented so that you can see calls to `fib`:"
   ]
  },
  {
   "cell_type": "code",
   "execution_count": 32,
   "metadata": {
    "collapsed": false
   },
   "outputs": [
    {
     "name": "stdout",
     "output_type": "stream",
     "text": [
      "fib 10\n",
      "fib 8\n",
      "fib 6\n",
      "fib 4\n",
      "fib 2\n",
      "fib 0\n",
      "fib 1\n",
      "fib 3\n",
      "fib 1\n",
      "fib 2\n",
      "fib 0\n",
      "fib 1\n",
      "fib 5\n",
      "fib 3\n",
      "fib 1\n",
      "fib 2\n",
      "fib 0\n",
      "fib 1\n",
      "fib 4\n",
      "fib 2\n",
      "fib 0\n",
      "fib 1\n",
      "fib 3\n",
      "fib 1\n",
      "fib 2\n",
      "fib 0\n",
      "fib 1\n",
      "fib 7\n",
      "fib 5\n",
      "fib 3\n",
      "fib 1\n",
      "fib 2\n",
      "fib 0\n",
      "fib 1\n",
      "fib 4\n",
      "fib 2\n",
      "fib 0\n",
      "fib 1\n",
      "fib 3\n",
      "fib 1\n",
      "fib 2\n",
      "fib 0\n",
      "fib 1\n",
      "fib 6\n",
      "fib 4\n",
      "fib 2\n",
      "fib 0\n",
      "fib 1\n",
      "fib 3\n",
      "fib 1\n",
      "fib 2\n",
      "fib 0\n",
      "fib 1\n",
      "fib 5\n",
      "fib 3\n",
      "fib 1\n",
      "fib 2\n",
      "fib 0\n",
      "fib 1\n",
      "fib 4\n",
      "fib 2\n",
      "fib 0\n",
      "fib 1\n",
      "fib 3\n",
      "fib 1\n",
      "fib 2\n",
      "fib 0\n",
      "fib 1\n",
      "fib 9\n",
      "fib 7\n",
      "fib 5\n",
      "fib 3\n",
      "fib 1\n",
      "fib 2\n",
      "fib 0\n",
      "fib 1\n",
      "fib 4\n",
      "fib 2\n",
      "fib 0\n",
      "fib 1\n",
      "fib 3\n",
      "fib 1\n",
      "fib 2\n",
      "fib 0\n",
      "fib 1\n",
      "fib 6\n",
      "fib 4\n",
      "fib 2\n",
      "fib 0\n",
      "fib 1\n",
      "fib 3\n",
      "fib 1\n",
      "fib 2\n",
      "fib 0\n",
      "fib 1\n",
      "fib 5\n",
      "fib 3\n",
      "fib 1\n",
      "fib 2\n",
      "fib 0\n",
      "fib 1\n",
      "fib 4\n",
      "fib 2\n",
      "fib 0\n",
      "fib 1\n",
      "fib 3\n",
      "fib 1\n",
      "fib 2\n",
      "fib 0\n",
      "fib 1\n",
      "fib 8\n",
      "fib 6\n",
      "fib 4\n",
      "fib 2\n",
      "fib 0\n",
      "fib 1\n",
      "fib 3\n",
      "fib 1\n",
      "fib 2\n",
      "fib 0\n",
      "fib 1\n",
      "fib 5\n",
      "fib 3\n",
      "fib 1\n",
      "fib 2\n",
      "fib 0\n",
      "fib 1\n",
      "fib 4\n",
      "fib 2\n",
      "fib 0\n",
      "fib 1\n",
      "fib 3\n",
      "fib 1\n",
      "fib 2\n",
      "fib 0\n",
      "fib 1\n",
      "fib 7\n",
      "fib 5\n",
      "fib 3\n",
      "fib 1\n",
      "fib 2\n",
      "fib 0\n",
      "fib 1\n",
      "fib 4\n",
      "fib 2\n",
      "fib 0\n",
      "fib 1\n",
      "fib 3\n",
      "fib 1\n",
      "fib 2\n",
      "fib 0\n",
      "fib 1\n",
      "fib 6\n",
      "fib 4\n",
      "fib 2\n",
      "fib 0\n",
      "fib 1\n",
      "fib 3\n",
      "fib 1\n",
      "fib 2\n",
      "fib 0\n",
      "fib 1\n",
      "fib 5\n",
      "fib 3\n",
      "fib 1\n",
      "fib 2\n",
      "fib 0\n",
      "fib 1\n",
      "fib 4\n",
      "fib 2\n",
      "fib 0\n",
      "fib 1\n",
      "fib 3\n",
      "fib 1\n",
      "fib 2\n",
      "fib 0\n",
      "fib 1\n"
     ]
    }
   ],
   "source": [
    "def fib(n):\n",
    "    \"\"\"Return the nth Fibonacci number.\n",
    "    This uses the modern definition of fib, where fib(0) == 0.\"\"\"\n",
    "    \n",
    "    print('fib', n)\n",
    "    if n <= 1:\n",
    "        return n\n",
    "    else:\n",
    "        return fib(n - 2) + fib(n - 1)\n",
    "\n",
    "assert fib(10) == 55"
   ]
  },
  {
   "cell_type": "markdown",
   "metadata": {},
   "source": [
    "## Memoization\n",
    "`fib` with memoization.\n",
    "This implementation uses a hash table (Python `dict` type) as a memoization table."
   ]
  },
  {
   "cell_type": "code",
   "execution_count": 35,
   "metadata": {
    "collapsed": false
   },
   "outputs": [
    {
     "name": "stdout",
     "output_type": "stream",
     "text": [
      "fib 10\n",
      "fib 8\n",
      "fib 6\n",
      "fib 4\n",
      "fib 2\n",
      "fib 0\n",
      "fib 1\n",
      "fib 3\n",
      "fib 5\n",
      "fib 7\n",
      "fib 9\n"
     ]
    }
   ],
   "source": [
    "FIB_MEMOIZATION_TABLE = {}\n",
    "\n",
    "def fib(n):\n",
    "    if n in FIB_MEMOIZATION_TABLE:\n",
    "        return FIB_MEMOIZATION_TABLE[n]\n",
    "    print('fib', n)\n",
    "    if n <= 1:\n",
    "        result = n\n",
    "    else:\n",
    "        result = fib(n - 2) + fib(n - 1)\n",
    "    FIB_MEMOIZATION_TABLE[n] = result\n",
    "    return result\n",
    "\n",
    "assert fib(10) == 55"
   ]
  },
  {
   "cell_type": "markdown",
   "metadata": {},
   "source": [
    "Note that `fib` is only computed once with each value.\n",
    "\n",
    "From here down I'll omit the calls to `print`. You can add them back to verify that these other memoization implementations work as advertised."
   ]
  },
  {
   "cell_type": "markdown",
   "metadata": {},
   "source": [
    "The following implementation separates the memoization logic from the fib logic.\n",
    "It matches what I described in class.\n",
    "\n",
    "Note that `fib` has been be modified to call `memoized_fib`.\n",
    "\n",
    "`fib` calls `memoized_fib`, and `memoized_fib` calls `fib`."
   ]
  },
  {
   "cell_type": "code",
   "execution_count": 23,
   "metadata": {
    "collapsed": false
   },
   "outputs": [],
   "source": [
    "FIB_MEMOIZATION_TABLE = {}\n",
    "\n",
    "def fib(n):\n",
    "    if n <= 1:\n",
    "        return n\n",
    "    else:\n",
    "        return memoized_fib(n - 2) + memoized_fib(n - 1)\n",
    "\n",
    "def memoized_fib(n):\n",
    "    if n in FIB_MEMOIZATION_TABLE:\n",
    "        return FIB_MEMOIZATION_TABLE[n]\n",
    "    result = fib(n)\n",
    "    FIB_MEMOIZATION_TABLE[n] = result\n",
    "    return result\n",
    "\n",
    "assert fib(10) == 55"
   ]
  },
  {
   "cell_type": "markdown",
   "metadata": {},
   "source": [
    "Instead of hard-coding `fib` into the implementation of the memoizer, we can write a higher-order function `memoize`, and call this to create `memoized_fib`.\n",
    "\n",
    "The implementation of `fib` still needs to be changed (from the original `fib`) to call `memoized_fib` instead of `fib`."
   ]
  },
  {
   "cell_type": "code",
   "execution_count": 37,
   "metadata": {
    "collapsed": false
   },
   "outputs": [],
   "source": [
    "def fib(n):\n",
    "    if n <= 1:\n",
    "        return n\n",
    "    else:\n",
    "        return memoized_fib(n - 2) + memoized_fib(n - 1)\n",
    "\n",
    "def memoize(fn):\n",
    "    memo_table = {}\n",
    "    def memoized_fn(n):\n",
    "        if n in memo_table:\n",
    "            return memo_table[n]\n",
    "        result = fn(n)\n",
    "        memo_table[n] = result\n",
    "        return result\n",
    "    return memoized_fn\n",
    "\n",
    "memoized_fib = memoize(fib)\n",
    "\n",
    "assert memoized_fib(10) == 55"
   ]
  },
  {
   "cell_type": "markdown",
   "metadata": {},
   "source": [
    "If we *replace* the definition of `fib` by `memoized_fib`, then we don't need to modify the implementation of `fib` at all."
   ]
  },
  {
   "cell_type": "code",
   "execution_count": 40,
   "metadata": {
    "collapsed": false
   },
   "outputs": [],
   "source": [
    "def fib(n):\n",
    "    if n <= 1:\n",
    "        return n\n",
    "    else:\n",
    "        return fib(n - 2) + fib(n - 1)\n",
    "\n",
    "def memoize(fn):\n",
    "    memo_table = {}\n",
    "    def memoized_fn(n):\n",
    "        if n in memo_table:\n",
    "            return memo_table[n]\n",
    "        result = fn(n)\n",
    "        memo_table[n] = result\n",
    "        return result\n",
    "    return memoized_fn\n",
    "\n",
    "fib = memoize(fib)\n",
    "\n",
    "assert fib(10) == 55"
   ]
  },
  {
   "cell_type": "markdown",
   "metadata": {},
   "source": [
    "Leaving theoretical computer science land for a moment, here's how to do the same thing with a Python [decorator](https://en.wikipedia.org/wiki/Python_syntax_and_semantics#Decorators):"
   ]
  },
  {
   "cell_type": "code",
   "execution_count": 42,
   "metadata": {
    "collapsed": false
   },
   "outputs": [],
   "source": [
    "def memoize(fn):\n",
    "    memo_table = {}\n",
    "    def memoized_fn(n):\n",
    "        if n in memo_table:\n",
    "            return memo_table[n]\n",
    "        result = fn(n)\n",
    "        memo_table[n] = result\n",
    "        return result\n",
    "    return memoized_fn\n",
    "\n",
    "@memoize\n",
    "def fib(n):\n",
    "    if n <= 1:\n",
    "        return n\n",
    "    else:\n",
    "        return fib(n - 2) + fib(n - 1)\n",
    "\n",
    "assert fib(10) == 55"
   ]
  },
  {
   "cell_type": "markdown",
   "metadata": {},
   "source": [
    "Here's another approach that you may see in practice:"
   ]
  },
  {
   "cell_type": "code",
   "execution_count": 45,
   "metadata": {
    "collapsed": false
   },
   "outputs": [],
   "source": [
    "def fib(n, memo_table={}):\n",
    "    if n in memo_table:\n",
    "        return memo_table[n]\n",
    "    if n <= 1:\n",
    "        result = n\n",
    "    else:\n",
    "        result = fib(n - 2, memo_table) + fib(n - 1, memo_table)\n",
    "    memo_table[n] = result\n",
    "    return result\n",
    "\n",
    "assert fib(10) == 55"
   ]
  },
  {
   "cell_type": "markdown",
   "metadata": {},
   "source": [
    "Unlike the preceding approaches, each outermost call to `fib` in this latest implementation creates a new memoization table.\n",
    "\n",
    "This makes it more similar to the following, bottom-up dynamic programming example.\n",
    "Common subproblems are only combined internally to `fib`, and the memoization structure is freed once the outermost `fib` exits."
   ]
  },
  {
   "cell_type": "markdown",
   "metadata": {},
   "source": [
    "# Dynamic Programming without Memoization\n",
    "Memoization attacks the problem from the top down: The control structure starts at the largest problem, and uses divide and conquer to break it into smaller problems until it reaches a base case.\n",
    "\n",
    "Here's a bottom-up approach. In contrast to top-down (memoization) approaches, it replaces recursion by a loop. It relies on the order of the loop to insure that subproblem solutions are computed before the problems that use them."
   ]
  },
  {
   "cell_type": "code",
   "execution_count": 57,
   "metadata": {
    "collapsed": false
   },
   "outputs": [],
   "source": [
    "def fib(n):\n",
    "    fibs = []\n",
    "    fibs[0] = 0\n",
    "    fibs[1] = 1\n",
    "    for i in range(2, n + 1):\n",
    "        fibs[i] = fibs[i - 2] + fibs[i - 1]\n",
    "    return fibs[n]\n",
    "\n",
    "assert fib(10) == 55"
   ]
  },
  {
   "cell_type": "markdown",
   "metadata": {},
   "source": [
    "The preceding definition can be easily translated into any mainstream language. Here's a more idiomatic Python implementation."
   ]
  },
  {
   "cell_type": "code",
   "execution_count": 58,
   "metadata": {
    "collapsed": false
   },
   "outputs": [],
   "source": [
    "def fib(n):\n",
    "    fibs = [0, 1]\n",
    "    for _ in range(2, n + 1):\n",
    "        fibs.append(fibs[-2] + fibs[-1])\n",
    "    return fibs[-1]\n",
    "\n",
    "assert fib(10) == 55"
   ]
  },
  {
   "cell_type": "markdown",
   "metadata": {},
   "source": [
    "This next implementation takes advantage of the fact that each subproblem uses only the two preceding subproblems, in order to reduce the storage requirements:"
   ]
  },
  {
   "cell_type": "code",
   "execution_count": 64,
   "metadata": {
    "collapsed": false
   },
   "outputs": [],
   "source": [
    "def fib(n):\n",
    "    a, b = 0, 1\n",
    "    for _ in range(2, n + 1):\n",
    "        a, b = b, a + b\n",
    "    return b\n",
    "\n",
    "assert fib(10) == 55"
   ]
  },
  {
   "cell_type": "markdown",
   "metadata": {},
   "source": [
    "# Math-based approaches\n",
    "Finally, approaches that use math instead of dynamic programming.\n",
    "\n",
    "These go outside the scope of FOCS, but they're fun.\n",
    "\n",
    "This first implementation is both clever and beautiful, but it doesn't actual work for large values of `n`.\n",
    "The problem is that floating-point numbers ([typically](https://en.wikipedia.org/wiki/Floating_point#Alternatives_to_floating-point_numbers)) have finite precision."
   ]
  },
  {
   "cell_type": "code",
   "execution_count": 69,
   "metadata": {
    "collapsed": false
   },
   "outputs": [],
   "source": [
    "import math\n",
    "\n",
    "PHI = (1 + math.sqrt(5)) / 2\n",
    "PSI = (1 - math.sqrt(5)) / 2\n",
    "SQRT_5 = math.sqrt(5)\n",
    "\n",
    "def fib(n):\n",
    "    return int((PHI ** n - PSI ** n) / SQRT_5)\n",
    "\n",
    "assert fib(10) == 55"
   ]
  },
  {
   "cell_type": "markdown",
   "metadata": {},
   "source": [
    "This next implementation uses the [matrix form](https://en.wikipedia.org/wiki/Fibonacci_number#Matrix_form) of the Fibonacci sequence:"
   ]
  },
  {
   "cell_type": "code",
   "execution_count": 78,
   "metadata": {
    "collapsed": false
   },
   "outputs": [],
   "source": [
    "import numpy as np\n",
    "\n",
    "def fib(n):\n",
    "    M = np.array([[0, 1], [1, 1]])\n",
    "    return np.linalg.matrix_power(M, 10)[0][1]\n",
    "\n",
    "assert fib(10) == 55"
   ]
  },
  {
   "cell_type": "markdown",
   "metadata": {},
   "source": [
    "When you think about how matrix multiplication is defined, this may look like it's doing the same work as computing `a, b = b, a + 1`, `n` times.\n",
    "\n",
    "However, there are more efficient ways to raise a matrix to the nth power.\n",
    "\n",
    "Note that $M^{2n}$ is $M^n \\times M^n$, so computing the former doesn't actually require $2n-1$ multiplication operations. Challenge problems: How many does it take? What are the complexity and the algorithm for $M^{2n+1}$?\n",
    "\n",
    "(The other way to raise a matrix to a power is to use eigenvalues. This strategy would also run into the problem that floating point numbers aren't real numbers. In fact, using it here would be equivalent to the preceding implementation that used `PHI` and `PSI`. Also, since `np.linalg.matrix_power` is defined to require an integral exponent, I can tell that `matrix_power` doesn't use this strategy.)"
   ]
  }
 ],
 "metadata": {
  "anaconda-cloud": {},
  "kernelspec": {
   "display_name": "Python [Root]",
   "language": "python",
   "name": "Python [Root]"
  },
  "language_info": {
   "codemirror_mode": {
    "name": "ipython",
    "version": 3
   },
   "file_extension": ".py",
   "mimetype": "text/x-python",
   "name": "python",
   "nbconvert_exporter": "python",
   "pygments_lexer": "ipython3",
   "version": "3.5.2"
  }
 },
 "nbformat": 4,
 "nbformat_minor": 0
}
