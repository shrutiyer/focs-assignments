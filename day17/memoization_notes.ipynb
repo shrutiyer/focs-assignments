{
 "cells": [
  {
   "cell_type": "markdown",
   "metadata": {},
   "source": [
    "# Dynamic Programming and the Fibonacci function\n",
    "\n",
    "A straight-forward implementation of Fibonacci.\n",
    "This implementation is derived directly from the mathematical definition.\n",
    "It does not use memoization."
   ]
  },
  {
   "cell_type": "code",
   "execution_count": 30,
   "metadata": {
    "collapsed": false
   },
   "outputs": [],
   "source": [
    "def fib(n):\n",
    "    \"\"\"Return the nth Fibonacci number.\n",
    "    This uses the modern definition of fib, where fib(0) == 0.\"\"\"\n",
    "    \n",
    "    if n <= 1:\n",
    "        return n\n",
    "    else:\n",
    "        return fib(n - 2) + fib(n - 1)\n",
    "\n",
    "assert fib(0) == 0\n",
    "assert fib(1) == 1\n",
    "assert fib(2) == 1\n",
    "assert fib(3) == 2\n",
    "assert fib(10) == 55"
   ]
  },
  {
   "cell_type": "markdown",
   "metadata": {},
   "source": [
    "Instrumented so that you can see calls to `fib`:"
   ]
  },
  {
   "cell_type": "code",
   "execution_count": 32,
   "metadata": {
    "collapsed": false
   },
   "outputs": [
    {
     "name": "stdout",
     "output_type": "stream",
     "text": [
      "fib 10\n",
      "fib 8\n",
      "fib 6\n",
      "fib 4\n",
      "fib 2\n",
      "fib 0\n",
      "fib 1\n",
      "fib 3\n",
      "fib 1\n",
      "fib 2\n",
      "fib 0\n",
      "fib 1\n",
      "fib 5\n",
      "fib 3\n",
      "fib 1\n",
      "fib 2\n",
      "fib 0\n",
      "fib 1\n",
      "fib 4\n",
      "fib 2\n",
      "fib 0\n",
      "fib 1\n",
      "fib 3\n",
      "fib 1\n",
      "fib 2\n",
      "fib 0\n",
      "fib 1\n",
      "fib 7\n",
      "fib 5\n",
      "fib 3\n",
      "fib 1\n",
      "fib 2\n",
      "fib 0\n",
      "fib 1\n",
      "fib 4\n",
      "fib 2\n",
      "fib 0\n",
      "fib 1\n",
      "fib 3\n",
      "fib 1\n",
      "fib 2\n",
      "fib 0\n",
      "fib 1\n",
      "fib 6\n",
      "fib 4\n",
      "fib 2\n",
      "fib 0\n",
      "fib 1\n",
      "fib 3\n",
      "fib 1\n",
      "fib 2\n",
      "fib 0\n",
      "fib 1\n",
      "fib 5\n",
      "fib 3\n",
      "fib 1\n",
      "fib 2\n",
      "fib 0\n",
      "fib 1\n",
      "fib 4\n",
      "fib 2\n",
      "fib 0\n",
      "fib 1\n",
      "fib 3\n",
      "fib 1\n",
      "fib 2\n",
      "fib 0\n",
      "fib 1\n",
      "fib 9\n",
      "fib 7\n",
      "fib 5\n",
      "fib 3\n",
      "fib 1\n",
      "fib 2\n",
      "fib 0\n",
      "fib 1\n",
      "fib 4\n",
      "fib 2\n",
      "fib 0\n",
      "fib 1\n",
      "fib 3\n",
      "fib 1\n",
      "fib 2\n",
      "fib 0\n",
      "fib 1\n",
      "fib 6\n",
      "fib 4\n",
      "fib 2\n",
      "fib 0\n",
      "fib 1\n",
      "fib 3\n",
      "fib 1\n",
      "fib 2\n",
      "fib 0\n",
      "fib 1\n",
      "fib 5\n",
      "fib 3\n",
      "fib 1\n",
      "fib 2\n",
      "fib 0\n",
      "fib 1\n",
      "fib 4\n",
      "fib 2\n",
      "fib 0\n",
      "fib 1\n",
      "fib 3\n",
      "fib 1\n",
      "fib 2\n",
      "fib 0\n",
      "fib 1\n",
      "fib 8\n",
      "fib 6\n",
      "fib 4\n",
      "fib 2\n",
      "fib 0\n",
      "fib 1\n",
      "fib 3\n",
      "fib 1\n",
      "fib 2\n",
      "fib 0\n",
      "fib 1\n",
      "fib 5\n",
      "fib 3\n",
      "fib 1\n",
      "fib 2\n",
      "fib 0\n",
      "fib 1\n",
      "fib 4\n",
      "fib 2\n",
      "fib 0\n",
      "fib 1\n",
      "fib 3\n",
      "fib 1\n",
      "fib 2\n",
      "fib 0\n",
      "fib 1\n",
      "fib 7\n",
      "fib 5\n",
      "fib 3\n",
      "fib 1\n",
      "fib 2\n",
      "fib 0\n",
      "fib 1\n",
      "fib 4\n",
      "fib 2\n",
      "fib 0\n",
      "fib 1\n",
      "fib 3\n",
      "fib 1\n",
      "fib 2\n",
      "fib 0\n",
      "fib 1\n",
      "fib 6\n",
      "fib 4\n",
      "fib 2\n",
      "fib 0\n",
      "fib 1\n",
      "fib 3\n",
      "fib 1\n",
      "fib 2\n",
      "fib 0\n",
      "fib 1\n",
      "fib 5\n",
      "fib 3\n",
      "fib 1\n",
      "fib 2\n",
      "fib 0\n",
      "fib 1\n",
      "fib 4\n",
      "fib 2\n",
      "fib 0\n",
      "fib 1\n",
      "fib 3\n",
      "fib 1\n",
      "fib 2\n",
      "fib 0\n",
      "fib 1\n"
     ]
    }
   ],
   "source": [
    "def fib(n):\n",
    "    \"\"\"Return the nth Fibonacci number.\n",
    "    This uses the modern definition of fib, where fib(0) == 0.\"\"\"\n",
    "    \n",
    "    print('fib', n)\n",
    "    if n <= 1:\n",
    "        return n\n",
    "    else:\n",
    "        return fib(n - 2) + fib(n - 1)\n",
    "\n",
    "assert fib(10) == 55"
   ]
  },
  {
   "cell_type": "markdown",
   "metadata": {},
   "source": [
    "## Memoization\n",
    "`fib` with memoization.\n",
    "This implementation uses a Python dict `FIB_MEMOIZATION_TABLE` as a memoization table."
   ]
  },
  {
   "cell_type": "code",
   "execution_count": 35,
   "metadata": {
    "collapsed": false
   },
   "outputs": [
    {
     "name": "stdout",
     "output_type": "stream",
     "text": [
      "fib 10\n",
      "fib 8\n",
      "fib 6\n",
      "fib 4\n",
      "fib 2\n",
      "fib 0\n",
      "fib 1\n",
      "fib 3\n",
      "fib 5\n",
      "fib 7\n",
      "fib 9\n"
     ]
    }
   ],
   "source": [
    "FIB_MEMOIZATION_TABLE = {}\n",
    "\n",
    "def fib(n):\n",
    "    if n in FIB_MEMOIZATION_TABLE:\n",
    "        return FIB_MEMOIZATION_TABLE[n]\n",
    "    print('fib', n)\n",
    "    if n <= 1:\n",
    "        result = n\n",
    "    else:\n",
    "        result = fib(n - 2) + fib(n - 1)\n",
    "    FIB_MEMOIZATION_TABLE[n] = result\n",
    "    return result\n",
    "\n",
    "assert fib(10) == 55"
   ]
  },
  {
   "cell_type": "markdown",
   "metadata": {},
   "source": [
    "Note that `fib` is only computed once with each value.\n",
    "\n",
    "From here down I'll omit the calls to `print`. Add them back to verify that these other memoization implementations work as advertised."
   ]
  },
  {
   "cell_type": "markdown",
   "metadata": {},
   "source": [
    "The following implementation separates the memoization logic from the fib logic.\n",
    "It matches what I described in class.\n",
    "\n",
    "Note that `fib` needs to be modified to call `memoized_fib`.\n",
    "\n",
    "`fib` calls `memoized_fib`, and `memoized_fib` calls `fib`."
   ]
  },
  {
   "cell_type": "code",
   "execution_count": 23,
   "metadata": {
    "collapsed": false
   },
   "outputs": [],
   "source": [
    "FIB_MEMOIZATION_TABLE = {}\n",
    "\n",
    "def fib(n):\n",
    "    if n <= 1:\n",
    "        return n\n",
    "    else:\n",
    "        return memoized_fib(n - 2) + memoized_fib(n - 1)\n",
    "\n",
    "def memoized_fib(n):\n",
    "    if n in FIB_MEMOIZATION_TABLE:\n",
    "        return FIB_MEMOIZATION_TABLE[n]\n",
    "    result = fib(n)\n",
    "    FIB_MEMOIZATION_TABLE[n] = result\n",
    "    return result\n",
    "\n",
    "assert fib(10) == 55"
   ]
  },
  {
   "cell_type": "markdown",
   "metadata": {},
   "source": [
    "Instead of hard-coding `fib` into the implementation of the memoizer, we can write a higher-order function `memoize`, and call this to create `memoized_fib`.\n",
    "\n",
    "The implementation `fib` still needs to be changed (from the original `fib`) to call `memoized_fib` instead of `fib`."
   ]
  },
  {
   "cell_type": "code",
   "execution_count": 37,
   "metadata": {
    "collapsed": false
   },
   "outputs": [],
   "source": [
    "def fib(n):\n",
    "    if n <= 1:\n",
    "        return n\n",
    "    else:\n",
    "        return memoized_fib(n - 2) + memoized_fib(n - 1)\n",
    "\n",
    "def memoize(fn):\n",
    "    memo_table = {}\n",
    "    def memoized_fn(n):\n",
    "        if n in memo_table:\n",
    "            return memo_table[n]\n",
    "        result = fn(n)\n",
    "        memo_table[n] = result\n",
    "        return result\n",
    "    return memoized_fn\n",
    "\n",
    "memoized_fib = memoize(fib)\n",
    "\n",
    "assert memoized_fib(10) == 55"
   ]
  },
  {
   "cell_type": "markdown",
   "metadata": {},
   "source": [
    "If we *replace* the definition of `fib` by `memoized_fib`, then we don't need to modify the body of `fib` at all."
   ]
  },
  {
   "cell_type": "code",
   "execution_count": 40,
   "metadata": {
    "collapsed": false
   },
   "outputs": [],
   "source": [
    "def fib(n):\n",
    "    if n <= 1:\n",
    "        return n\n",
    "    else:\n",
    "        return fib(n - 2) + fib(n - 1)\n",
    "\n",
    "def memoize(fn):\n",
    "    memo_table = {}\n",
    "    def memoized_fn(n):\n",
    "        if n in memo_table:\n",
    "            return memo_table[n]\n",
    "        result = fn(n)\n",
    "        memo_table[n] = result\n",
    "        return result\n",
    "    return memoized_fn\n",
    "\n",
    "fib = memoize(fib)\n",
    "\n",
    "assert fib(10) == 55"
   ]
  },
  {
   "cell_type": "markdown",
   "metadata": {},
   "source": [
    "Leaving theoretical computer science land for a moment, here's how to do the same thing with a Python [decorator](https://en.wikipedia.org/wiki/Python_syntax_and_semantics#Decorators)."
   ]
  },
  {
   "cell_type": "code",
   "execution_count": 42,
   "metadata": {
    "collapsed": false
   },
   "outputs": [],
   "source": [
    "def memoize(fn):\n",
    "    memo_table = {}\n",
    "    def memoized_fn(n):\n",
    "        if n in memo_table:\n",
    "            return memo_table[n]\n",
    "        result = fn(n)\n",
    "        memo_table[n] = result\n",
    "        return result\n",
    "    return memoized_fn\n",
    "\n",
    "@memoize\n",
    "def fib(n):\n",
    "    if n <= 1:\n",
    "        return n\n",
    "    else:\n",
    "        return fib(n - 2) + fib(n - 1)\n",
    "\n",
    "assert fib(10) == 55"
   ]
  },
  {
   "cell_type": "markdown",
   "metadata": {},
   "source": [
    "Here's another approach that you may see in practice. Unlike the approaches above, each outermost call to `fib` creates a new memoization table. This makes it more similar to the following, bottom-up dynamic programming example: common subproblems are only combined internally to `fib`, and the memoization structure is freed once the outermost `fib` exists."
   ]
  },
  {
   "cell_type": "code",
   "execution_count": 45,
   "metadata": {
    "collapsed": false
   },
   "outputs": [],
   "source": [
    "def fib(n, memo_table={}):\n",
    "    if n in memo_table:\n",
    "        return memo_table[n]\n",
    "    if n <= 1:\n",
    "        result = n\n",
    "    else:\n",
    "        result = fib(n - 2, memo_table) + fib(n - 1, memo_table)\n",
    "    memo_table[n] = result\n",
    "    return result\n",
    "\n",
    "assert fib(10) == 55"
   ]
  },
  {
   "cell_type": "markdown",
   "metadata": {},
   "source": [
    "# Dynamic Programming without Memoization\n",
    "Memoization attacks the problem from the top down: The control structure starts at the largest problem, and uses divide and conquer to break it into smaller problems until it reaches a base case. (The data flow is from the bottom up.)\n",
    "\n",
    "Here's a bottom-up approach, that replaces recursion by a loop, and relies on the order of the loop to process the subproblems first."
   ]
  },
  {
   "cell_type": "code",
   "execution_count": 57,
   "metadata": {
    "collapsed": false
   },
   "outputs": [],
   "source": [
    "def fib(n):\n",
    "    fibs = []\n",
    "    fibs[0] = 0\n",
    "    fibs[1] = 1\n",
    "    for i in range(2, n + 1):\n",
    "        fibs[i] = fibs[i - 2] + fibs[i - 1]\n",
    "    return fibs[n]\n",
    "\n",
    "assert fib(10) == 55"
   ]
  },
  {
   "cell_type": "markdown",
   "metadata": {},
   "source": [
    "The preceding definition can be easily translated into any mainstream language. Here's a more idiomatic Python implementation."
   ]
  },
  {
   "cell_type": "code",
   "execution_count": 58,
   "metadata": {
    "collapsed": false
   },
   "outputs": [],
   "source": [
    "def fib(n):\n",
    "    fibs = [0, 1]\n",
    "    for _ in range(2, n + 1):\n",
    "        fibs.append(fibs[-2] + fibs[-1])\n",
    "    return fibs[-1]\n",
    "\n",
    "assert fib(10) == 55"
   ]
  },
  {
   "cell_type": "markdown",
   "metadata": {},
   "source": [
    "An implementation that takes advantage of the fact that each subproblem uses only the two preceding subproblems, to reduce the storage requirements:"
   ]
  },
  {
   "cell_type": "code",
   "execution_count": 64,
   "metadata": {
    "collapsed": false
   },
   "outputs": [],
   "source": [
    "def fib(n):\n",
    "    a, b = 0, 1\n",
    "    for _ in range(2, n + 1):\n",
    "        a, b = b, a + b\n",
    "    return b\n",
    "\n",
    "assert fib(10) == 55"
   ]
  },
  {
   "cell_type": "markdown",
   "metadata": {},
   "source": [
    "# Math-based approaches\n",
    "Finally, approaches that use math instead of dynamic programming.\n",
    "\n",
    "These goes outside the scope of FOCS, but they're fun.\n",
    "\n",
    "The first is very clever and beautiful, but doesn't work as well with fixed-length floating-point numbers as it does with real numbers."
   ]
  },
  {
   "cell_type": "code",
   "execution_count": 69,
   "metadata": {
    "collapsed": false
   },
   "outputs": [],
   "source": [
    "import math\n",
    "\n",
    "PHI = (1 + math.sqrt(5)) / 2\n",
    "PSI = (1 - math.sqrt(5)) / 2\n",
    "SQRT_5 = math.sqrt(5)\n",
    "\n",
    "def fib(n):\n",
    "    return int((PHI ** n - PSI ** n) / SQRT_5)\n",
    "\n",
    "assert fib(10) == 55"
   ]
  },
  {
   "cell_type": "markdown",
   "metadata": {},
   "source": [
    "The second looks like it's just a fancy way of saying `a, b = b, a + 1`, `n` times.\n",
    "\n",
    "The reason it's not is that there's better ways to raise a matrix to the nth power.\n",
    "\n",
    "One is to use eigenvalues; maybe you cover this in linearity.\n",
    "\n",
    "The other is to note that $M^{2n}$ is $M^n \\times M^n$, so computing the former doesn't actually require $2n-1$ multiplication operations. Challenge problems: how many does it take? What are the complexity and the algorithm for $M^{2n+1}$?"
   ]
  },
  {
   "cell_type": "code",
   "execution_count": 78,
   "metadata": {
    "collapsed": false
   },
   "outputs": [],
   "source": [
    "import numpy as np\n",
    "\n",
    "def fib(n):\n",
    "    M = np.array([[0, 1], [1, 1]])\n",
    "    return np.linalg.matrix_power(M, 10)[0][1]\n",
    "\n",
    "assert fib(10) == 55"
   ]
  }
 ],
 "metadata": {
  "anaconda-cloud": {},
  "kernelspec": {
   "display_name": "Python [Root]",
   "language": "python",
   "name": "Python [Root]"
  },
  "language_info": {
   "codemirror_mode": {
    "name": "ipython",
    "version": 3
   },
   "file_extension": ".py",
   "mimetype": "text/x-python",
   "name": "python",
   "nbconvert_exporter": "python",
   "pygments_lexer": "ipython3",
   "version": "3.5.2"
  }
 },
 "nbformat": 4,
 "nbformat_minor": 0
}
